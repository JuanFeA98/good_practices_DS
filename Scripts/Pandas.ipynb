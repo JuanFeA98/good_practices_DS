{
 "cells": [
  {
   "cell_type": "markdown",
   "metadata": {},
   "source": [
    "# **Pandas**"
   ]
  },
  {
   "cell_type": "markdown",
   "metadata": {},
   "source": [
    "### **Librerías**"
   ]
  },
  {
   "cell_type": "code",
   "execution_count": 1,
   "metadata": {},
   "outputs": [],
   "source": [
    "import pandas as pd\n",
    "import numpy as np"
   ]
  },
  {
   "cell_type": "markdown",
   "metadata": {},
   "source": [
    "### **Datos**"
   ]
  },
  {
   "cell_type": "code",
   "execution_count": 128,
   "metadata": {},
   "outputs": [],
   "source": [
    "# Data para el producto A\n",
    "\n",
    "df_a = pd.DataFrame({\n",
    "    'Month':pd.date_range(\n",
    "        start = '01-01-2012',\n",
    "        end = '31-12-2022',\n",
    "        freq = 'MS'\n",
    "    ),\n",
    "    'Quotes':np.random.randint(\n",
    "        low = 1_000_000,\n",
    "        high = 2_500_000,\n",
    "        size = 132\n",
    "    ),\n",
    "    'Numbers':np.random.randint(\n",
    "        low = 300_000,\n",
    "        high = 500_000,\n",
    "        size = 132\n",
    "    ),\n",
    "    'Amounts':np.random.randint(\n",
    "        low = 750_000,\n",
    "        high = 1_250_000,\n",
    "        size = 132\n",
    "    )\n",
    "})\n",
    "\n",
    "df_a['Product'] = 'A'\n",
    "\n",
    "# Data para el producto B\n",
    "\n",
    "df_b = pd.DataFrame({\n",
    "    'Month':pd.date_range(\n",
    "        start = '01-01-2012',\n",
    "        end = '31-12-2022',\n",
    "        freq = 'MS'\n",
    "    ),\n",
    "    'Quotes':np.random.randint(\n",
    "        low = 100_000,\n",
    "        high = 800_000,\n",
    "        size = 132\n",
    "    ),\n",
    "    'Numbers':np.random.randint(\n",
    "        low = 10_000,\n",
    "        high = 95_000,\n",
    "        size = 132\n",
    "    ),\n",
    "    'Amounts':np.random.randint(\n",
    "        low = 450_000,\n",
    "        high = 750_000,\n",
    "        size = 132\n",
    "    )\n",
    "})\n",
    "\n",
    "df_b['Product'] = 'B'"
   ]
  },
  {
   "cell_type": "code",
   "execution_count": 129,
   "metadata": {},
   "outputs": [
    {
     "data": {
      "text/html": [
       "<div>\n",
       "<style scoped>\n",
       "    .dataframe tbody tr th:only-of-type {\n",
       "        vertical-align: middle;\n",
       "    }\n",
       "\n",
       "    .dataframe tbody tr th {\n",
       "        vertical-align: top;\n",
       "    }\n",
       "\n",
       "    .dataframe thead th {\n",
       "        text-align: right;\n",
       "    }\n",
       "</style>\n",
       "<table border=\"1\" class=\"dataframe\">\n",
       "  <thead>\n",
       "    <tr style=\"text-align: right;\">\n",
       "      <th></th>\n",
       "      <th>Month</th>\n",
       "      <th>Quotes</th>\n",
       "      <th>Numbers</th>\n",
       "      <th>Amounts</th>\n",
       "      <th>Product</th>\n",
       "    </tr>\n",
       "  </thead>\n",
       "  <tbody>\n",
       "    <tr>\n",
       "      <th>0</th>\n",
       "      <td>2012-01-01</td>\n",
       "      <td>2234066</td>\n",
       "      <td>418602</td>\n",
       "      <td>1203949</td>\n",
       "      <td>A</td>\n",
       "    </tr>\n",
       "    <tr>\n",
       "      <th>1</th>\n",
       "      <td>2012-01-01</td>\n",
       "      <td>495770</td>\n",
       "      <td>72950</td>\n",
       "      <td>552899</td>\n",
       "      <td>B</td>\n",
       "    </tr>\n",
       "    <tr>\n",
       "      <th>2</th>\n",
       "      <td>2012-02-01</td>\n",
       "      <td>1228640</td>\n",
       "      <td>377758</td>\n",
       "      <td>784108</td>\n",
       "      <td>A</td>\n",
       "    </tr>\n",
       "    <tr>\n",
       "      <th>3</th>\n",
       "      <td>2012-02-01</td>\n",
       "      <td>687294</td>\n",
       "      <td>66554</td>\n",
       "      <td>654344</td>\n",
       "      <td>B</td>\n",
       "    </tr>\n",
       "    <tr>\n",
       "      <th>4</th>\n",
       "      <td>2012-03-01</td>\n",
       "      <td>1256217</td>\n",
       "      <td>300708</td>\n",
       "      <td>980733</td>\n",
       "      <td>A</td>\n",
       "    </tr>\n",
       "  </tbody>\n",
       "</table>\n",
       "</div>"
      ],
      "text/plain": [
       "       Month   Quotes  Numbers  Amounts Product\n",
       "0 2012-01-01  2234066   418602  1203949       A\n",
       "1 2012-01-01   495770    72950   552899       B\n",
       "2 2012-02-01  1228640   377758   784108       A\n",
       "3 2012-02-01   687294    66554   654344       B\n",
       "4 2012-03-01  1256217   300708   980733       A"
      ]
     },
     "execution_count": 129,
     "metadata": {},
     "output_type": "execute_result"
    }
   ],
   "source": [
    "# Combinamos los datos\n",
    "df = pd.concat([df_a, df_b], axis=0)\n",
    "df.sort_values(by='Month', inplace=True)\n",
    "df.reset_index(drop=True, inplace=True)\n",
    "df.head()"
   ]
  },
  {
   "cell_type": "code",
   "execution_count": 130,
   "metadata": {},
   "outputs": [],
   "source": [
    "# Columnas calculadas \n",
    "df['Average_Sale'] = df['Amounts'] / df['Numbers']\n",
    "df['Product_Conversion'] = df['Numbers'] / df['Quotes']"
   ]
  },
  {
   "cell_type": "code",
   "execution_count": 131,
   "metadata": {},
   "outputs": [
    {
     "data": {
      "text/html": [
       "<div>\n",
       "<style scoped>\n",
       "    .dataframe tbody tr th:only-of-type {\n",
       "        vertical-align: middle;\n",
       "    }\n",
       "\n",
       "    .dataframe tbody tr th {\n",
       "        vertical-align: top;\n",
       "    }\n",
       "\n",
       "    .dataframe thead th {\n",
       "        text-align: right;\n",
       "    }\n",
       "</style>\n",
       "<table border=\"1\" class=\"dataframe\">\n",
       "  <thead>\n",
       "    <tr style=\"text-align: right;\">\n",
       "      <th></th>\n",
       "      <th>Month</th>\n",
       "      <th>Quotes</th>\n",
       "      <th>Numbers</th>\n",
       "      <th>Amounts</th>\n",
       "      <th>Product</th>\n",
       "      <th>Average_Sale</th>\n",
       "      <th>Product_Conversion</th>\n",
       "    </tr>\n",
       "  </thead>\n",
       "  <tbody>\n",
       "    <tr>\n",
       "      <th>0</th>\n",
       "      <td>2012-01-01</td>\n",
       "      <td>2234066</td>\n",
       "      <td>418602</td>\n",
       "      <td>1203949</td>\n",
       "      <td>A</td>\n",
       "      <td>2.876119</td>\n",
       "      <td>0.187372</td>\n",
       "    </tr>\n",
       "    <tr>\n",
       "      <th>1</th>\n",
       "      <td>2012-01-01</td>\n",
       "      <td>495770</td>\n",
       "      <td>72950</td>\n",
       "      <td>552899</td>\n",
       "      <td>B</td>\n",
       "      <td>7.579150</td>\n",
       "      <td>0.147145</td>\n",
       "    </tr>\n",
       "    <tr>\n",
       "      <th>2</th>\n",
       "      <td>2012-02-01</td>\n",
       "      <td>1228640</td>\n",
       "      <td>377758</td>\n",
       "      <td>784108</td>\n",
       "      <td>A</td>\n",
       "      <td>2.075689</td>\n",
       "      <td>0.307460</td>\n",
       "    </tr>\n",
       "    <tr>\n",
       "      <th>3</th>\n",
       "      <td>2012-02-01</td>\n",
       "      <td>687294</td>\n",
       "      <td>66554</td>\n",
       "      <td>654344</td>\n",
       "      <td>B</td>\n",
       "      <td>9.831776</td>\n",
       "      <td>0.096835</td>\n",
       "    </tr>\n",
       "    <tr>\n",
       "      <th>4</th>\n",
       "      <td>2012-03-01</td>\n",
       "      <td>1256217</td>\n",
       "      <td>300708</td>\n",
       "      <td>980733</td>\n",
       "      <td>A</td>\n",
       "      <td>3.261413</td>\n",
       "      <td>0.239376</td>\n",
       "    </tr>\n",
       "  </tbody>\n",
       "</table>\n",
       "</div>"
      ],
      "text/plain": [
       "       Month   Quotes  Numbers  Amounts Product  Average_Sale  \\\n",
       "0 2012-01-01  2234066   418602  1203949       A      2.876119   \n",
       "1 2012-01-01   495770    72950   552899       B      7.579150   \n",
       "2 2012-02-01  1228640   377758   784108       A      2.075689   \n",
       "3 2012-02-01   687294    66554   654344       B      9.831776   \n",
       "4 2012-03-01  1256217   300708   980733       A      3.261413   \n",
       "\n",
       "   Product_Conversion  \n",
       "0            0.187372  \n",
       "1            0.147145  \n",
       "2            0.307460  \n",
       "3            0.096835  \n",
       "4            0.239376  "
      ]
     },
     "execution_count": 131,
     "metadata": {},
     "output_type": "execute_result"
    }
   ],
   "source": [
    "df.head()"
   ]
  },
  {
   "cell_type": "markdown",
   "metadata": {},
   "source": [
    "### **Ajuste del formato**"
   ]
  },
  {
   "cell_type": "code",
   "execution_count": 135,
   "metadata": {},
   "outputs": [],
   "source": [
    "# Ajustamos los formatos de los números\n",
    "df_formatted = df.style.format({\n",
    "    # Ajustamos el formato de fecha\n",
    "    # 'Month': '{:%Y-%m}',\n",
    "    # 'Month': '{:%B-%Y}',\n",
    "    'Month': '{:%b-%Y}',\n",
    "\n",
    "    # Ajustamos el formato de los números\n",
    "    'Quotes': '{:,.0f}',\n",
    "    'Numbers': '{:,.0f}',\n",
    "    'Amounts': '${:,.0f}',\n",
    "    # 'Average_Sale': '{:,.2f} ($)',\n",
    "    'Average_Sale': '${:,.2f}',\n",
    "    'Product_Conversion': '{:.2%}',\n",
    "})\n",
    "# .hide()"
   ]
  },
  {
   "cell_type": "markdown",
   "metadata": {},
   "source": [
    "### **Ajuste del formato condicional**"
   ]
  },
  {
   "cell_type": "code",
   "execution_count": 150,
   "metadata": {},
   "outputs": [],
   "source": [
    "def highlight_product(s, variable, color='yellow'):\n",
    "    row = pd.Series(data=False, index=s.index)\n",
    "    row['Product'] = s.loc['Product'] == variable\n",
    "\n",
    "    return [f'background-color: {color}' if row.any() else '' for value in row]"
   ]
  },
  {
   "cell_type": "code",
   "execution_count": 149,
   "metadata": {},
   "outputs": [
    {
     "data": {
      "text/html": [
       "<style type=\"text/css\">\n",
       "#T_f7926_row0_col0, #T_f7926_row0_col1, #T_f7926_row0_col2, #T_f7926_row0_col3, #T_f7926_row0_col4, #T_f7926_row0_col5, #T_f7926_row0_col6, #T_f7926_row2_col0, #T_f7926_row2_col1, #T_f7926_row2_col2, #T_f7926_row2_col3, #T_f7926_row2_col4, #T_f7926_row2_col5, #T_f7926_row2_col6, #T_f7926_row4_col0, #T_f7926_row4_col1, #T_f7926_row4_col2, #T_f7926_row4_col3, #T_f7926_row4_col4, #T_f7926_row4_col5, #T_f7926_row4_col6 {\n",
       "  background-color: black;\n",
       "}\n",
       "</style>\n",
       "<table id=\"T_f7926\">\n",
       "  <thead>\n",
       "    <tr>\n",
       "      <th id=\"T_f7926_level0_col0\" class=\"col_heading level0 col0\" >Month</th>\n",
       "      <th id=\"T_f7926_level0_col1\" class=\"col_heading level0 col1\" >Quotes</th>\n",
       "      <th id=\"T_f7926_level0_col2\" class=\"col_heading level0 col2\" >Numbers</th>\n",
       "      <th id=\"T_f7926_level0_col3\" class=\"col_heading level0 col3\" >Amounts</th>\n",
       "      <th id=\"T_f7926_level0_col4\" class=\"col_heading level0 col4\" >Product</th>\n",
       "      <th id=\"T_f7926_level0_col5\" class=\"col_heading level0 col5\" >Average_Sale</th>\n",
       "      <th id=\"T_f7926_level0_col6\" class=\"col_heading level0 col6\" >Product_Conversion</th>\n",
       "    </tr>\n",
       "  </thead>\n",
       "  <tbody>\n",
       "    <tr>\n",
       "      <td id=\"T_f7926_row0_col0\" class=\"data row0 col0\" >Jan-2012</td>\n",
       "      <td id=\"T_f7926_row0_col1\" class=\"data row0 col1\" >2,234,066</td>\n",
       "      <td id=\"T_f7926_row0_col2\" class=\"data row0 col2\" >418,602</td>\n",
       "      <td id=\"T_f7926_row0_col3\" class=\"data row0 col3\" >$1,203,949</td>\n",
       "      <td id=\"T_f7926_row0_col4\" class=\"data row0 col4\" >A</td>\n",
       "      <td id=\"T_f7926_row0_col5\" class=\"data row0 col5\" >$2.88</td>\n",
       "      <td id=\"T_f7926_row0_col6\" class=\"data row0 col6\" >18.74%</td>\n",
       "    </tr>\n",
       "    <tr>\n",
       "      <td id=\"T_f7926_row1_col0\" class=\"data row1 col0\" >Jan-2012</td>\n",
       "      <td id=\"T_f7926_row1_col1\" class=\"data row1 col1\" >495,770</td>\n",
       "      <td id=\"T_f7926_row1_col2\" class=\"data row1 col2\" >72,950</td>\n",
       "      <td id=\"T_f7926_row1_col3\" class=\"data row1 col3\" >$552,899</td>\n",
       "      <td id=\"T_f7926_row1_col4\" class=\"data row1 col4\" >B</td>\n",
       "      <td id=\"T_f7926_row1_col5\" class=\"data row1 col5\" >$7.58</td>\n",
       "      <td id=\"T_f7926_row1_col6\" class=\"data row1 col6\" >14.71%</td>\n",
       "    </tr>\n",
       "    <tr>\n",
       "      <td id=\"T_f7926_row2_col0\" class=\"data row2 col0\" >Feb-2012</td>\n",
       "      <td id=\"T_f7926_row2_col1\" class=\"data row2 col1\" >1,228,640</td>\n",
       "      <td id=\"T_f7926_row2_col2\" class=\"data row2 col2\" >377,758</td>\n",
       "      <td id=\"T_f7926_row2_col3\" class=\"data row2 col3\" >$784,108</td>\n",
       "      <td id=\"T_f7926_row2_col4\" class=\"data row2 col4\" >A</td>\n",
       "      <td id=\"T_f7926_row2_col5\" class=\"data row2 col5\" >$2.08</td>\n",
       "      <td id=\"T_f7926_row2_col6\" class=\"data row2 col6\" >30.75%</td>\n",
       "    </tr>\n",
       "    <tr>\n",
       "      <td id=\"T_f7926_row3_col0\" class=\"data row3 col0\" >Feb-2012</td>\n",
       "      <td id=\"T_f7926_row3_col1\" class=\"data row3 col1\" >687,294</td>\n",
       "      <td id=\"T_f7926_row3_col2\" class=\"data row3 col2\" >66,554</td>\n",
       "      <td id=\"T_f7926_row3_col3\" class=\"data row3 col3\" >$654,344</td>\n",
       "      <td id=\"T_f7926_row3_col4\" class=\"data row3 col4\" >B</td>\n",
       "      <td id=\"T_f7926_row3_col5\" class=\"data row3 col5\" >$9.83</td>\n",
       "      <td id=\"T_f7926_row3_col6\" class=\"data row3 col6\" >9.68%</td>\n",
       "    </tr>\n",
       "    <tr>\n",
       "      <td id=\"T_f7926_row4_col0\" class=\"data row4 col0\" >Mar-2012</td>\n",
       "      <td id=\"T_f7926_row4_col1\" class=\"data row4 col1\" >1,256,217</td>\n",
       "      <td id=\"T_f7926_row4_col2\" class=\"data row4 col2\" >300,708</td>\n",
       "      <td id=\"T_f7926_row4_col3\" class=\"data row4 col3\" >$980,733</td>\n",
       "      <td id=\"T_f7926_row4_col4\" class=\"data row4 col4\" >A</td>\n",
       "      <td id=\"T_f7926_row4_col5\" class=\"data row4 col5\" >$3.26</td>\n",
       "      <td id=\"T_f7926_row4_col6\" class=\"data row4 col6\" >23.94%</td>\n",
       "    </tr>\n",
       "  </tbody>\n",
       "</table>\n"
      ],
      "text/plain": [
       "<pandas.io.formats.style.Styler at 0x2ca5c35d310>"
      ]
     },
     "execution_count": 149,
     "metadata": {},
     "output_type": "execute_result"
    }
   ],
   "source": [
    "# Ajustamos los formatos de los números\n",
    "df.head().style.apply(\n",
    "    highlight_product, product='A', color='black', axis=1\n",
    ").format({\n",
    "    # Ajustamos el formato de fecha\n",
    "    # 'Month': '{:%Y-%m}',\n",
    "    # 'Month': '{:%B-%Y}',\n",
    "    'Month': '{:%b-%Y}',\n",
    "\n",
    "    # Ajustamos el formato de los números\n",
    "    'Quotes': '{:,.0f}',\n",
    "    'Numbers': '{:,.0f}',\n",
    "    'Amounts': '${:,.0f}',\n",
    "    # 'Average_Sale': '{:,.2f} ($)',\n",
    "    'Average_Sale': '${:,.2f}',\n",
    "    'Product_Conversion': '{:.2%}',\n",
    "}).hide()"
   ]
  },
  {
   "cell_type": "code",
   "execution_count": null,
   "metadata": {},
   "outputs": [],
   "source": []
  },
  {
   "cell_type": "code",
   "execution_count": null,
   "metadata": {},
   "outputs": [],
   "source": []
  },
  {
   "cell_type": "code",
   "execution_count": null,
   "metadata": {},
   "outputs": [],
   "source": []
  },
  {
   "cell_type": "code",
   "execution_count": null,
   "metadata": {},
   "outputs": [],
   "source": []
  },
  {
   "cell_type": "code",
   "execution_count": null,
   "metadata": {},
   "outputs": [],
   "source": []
  },
  {
   "cell_type": "code",
   "execution_count": 4,
   "metadata": {},
   "outputs": [],
   "source": [
    "marketing = pd.read_csv('./data/DirectMarketing.csv')"
   ]
  },
  {
   "cell_type": "code",
   "execution_count": 5,
   "metadata": {},
   "outputs": [
    {
     "data": {
      "text/html": [
       "<div>\n",
       "<style scoped>\n",
       "    .dataframe tbody tr th:only-of-type {\n",
       "        vertical-align: middle;\n",
       "    }\n",
       "\n",
       "    .dataframe tbody tr th {\n",
       "        vertical-align: top;\n",
       "    }\n",
       "\n",
       "    .dataframe thead th {\n",
       "        text-align: right;\n",
       "    }\n",
       "</style>\n",
       "<table border=\"1\" class=\"dataframe\">\n",
       "  <thead>\n",
       "    <tr style=\"text-align: right;\">\n",
       "      <th></th>\n",
       "      <th>Age</th>\n",
       "      <th>Gender</th>\n",
       "      <th>OwnHome</th>\n",
       "      <th>Married</th>\n",
       "      <th>Location</th>\n",
       "      <th>Salary</th>\n",
       "      <th>Children</th>\n",
       "      <th>History</th>\n",
       "      <th>Catalogs</th>\n",
       "      <th>AmountSpent</th>\n",
       "    </tr>\n",
       "  </thead>\n",
       "  <tbody>\n",
       "    <tr>\n",
       "      <th>0</th>\n",
       "      <td>Old</td>\n",
       "      <td>Female</td>\n",
       "      <td>Own</td>\n",
       "      <td>Single</td>\n",
       "      <td>Far</td>\n",
       "      <td>47500</td>\n",
       "      <td>0</td>\n",
       "      <td>High</td>\n",
       "      <td>6</td>\n",
       "      <td>755</td>\n",
       "    </tr>\n",
       "    <tr>\n",
       "      <th>1</th>\n",
       "      <td>Middle</td>\n",
       "      <td>Male</td>\n",
       "      <td>Rent</td>\n",
       "      <td>Single</td>\n",
       "      <td>Close</td>\n",
       "      <td>63600</td>\n",
       "      <td>0</td>\n",
       "      <td>High</td>\n",
       "      <td>6</td>\n",
       "      <td>1318</td>\n",
       "    </tr>\n",
       "    <tr>\n",
       "      <th>2</th>\n",
       "      <td>Young</td>\n",
       "      <td>Female</td>\n",
       "      <td>Rent</td>\n",
       "      <td>Single</td>\n",
       "      <td>Close</td>\n",
       "      <td>13500</td>\n",
       "      <td>0</td>\n",
       "      <td>Low</td>\n",
       "      <td>18</td>\n",
       "      <td>296</td>\n",
       "    </tr>\n",
       "    <tr>\n",
       "      <th>3</th>\n",
       "      <td>Middle</td>\n",
       "      <td>Male</td>\n",
       "      <td>Own</td>\n",
       "      <td>Married</td>\n",
       "      <td>Close</td>\n",
       "      <td>85600</td>\n",
       "      <td>1</td>\n",
       "      <td>High</td>\n",
       "      <td>18</td>\n",
       "      <td>2436</td>\n",
       "    </tr>\n",
       "    <tr>\n",
       "      <th>4</th>\n",
       "      <td>Middle</td>\n",
       "      <td>Female</td>\n",
       "      <td>Own</td>\n",
       "      <td>Single</td>\n",
       "      <td>Close</td>\n",
       "      <td>68400</td>\n",
       "      <td>0</td>\n",
       "      <td>High</td>\n",
       "      <td>12</td>\n",
       "      <td>1304</td>\n",
       "    </tr>\n",
       "  </tbody>\n",
       "</table>\n",
       "</div>"
      ],
      "text/plain": [
       "      Age  Gender OwnHome  Married Location  Salary  Children History  \\\n",
       "0     Old  Female     Own   Single      Far   47500         0    High   \n",
       "1  Middle    Male    Rent   Single    Close   63600         0    High   \n",
       "2   Young  Female    Rent   Single    Close   13500         0     Low   \n",
       "3  Middle    Male     Own  Married    Close   85600         1    High   \n",
       "4  Middle  Female     Own   Single    Close   68400         0    High   \n",
       "\n",
       "   Catalogs  AmountSpent  \n",
       "0         6          755  \n",
       "1         6         1318  \n",
       "2        18          296  \n",
       "3        18         2436  \n",
       "4        12         1304  "
      ]
     },
     "execution_count": 5,
     "metadata": {},
     "output_type": "execute_result"
    }
   ],
   "source": [
    "marketing.head()"
   ]
  },
  {
   "cell_type": "code",
   "execution_count": 14,
   "metadata": {},
   "outputs": [],
   "source": [
    "groceries = pd.read_csv('./data/Groceries_dataset.csv')"
   ]
  },
  {
   "cell_type": "code",
   "execution_count": 15,
   "metadata": {},
   "outputs": [
    {
     "data": {
      "text/html": [
       "<div>\n",
       "<style scoped>\n",
       "    .dataframe tbody tr th:only-of-type {\n",
       "        vertical-align: middle;\n",
       "    }\n",
       "\n",
       "    .dataframe tbody tr th {\n",
       "        vertical-align: top;\n",
       "    }\n",
       "\n",
       "    .dataframe thead th {\n",
       "        text-align: right;\n",
       "    }\n",
       "</style>\n",
       "<table border=\"1\" class=\"dataframe\">\n",
       "  <thead>\n",
       "    <tr style=\"text-align: right;\">\n",
       "      <th></th>\n",
       "      <th>Member_number</th>\n",
       "      <th>Date</th>\n",
       "      <th>itemDescription</th>\n",
       "    </tr>\n",
       "  </thead>\n",
       "  <tbody>\n",
       "    <tr>\n",
       "      <th>0</th>\n",
       "      <td>1808</td>\n",
       "      <td>21-07-2015</td>\n",
       "      <td>tropical fruit</td>\n",
       "    </tr>\n",
       "    <tr>\n",
       "      <th>1</th>\n",
       "      <td>2552</td>\n",
       "      <td>05-01-2015</td>\n",
       "      <td>whole milk</td>\n",
       "    </tr>\n",
       "    <tr>\n",
       "      <th>2</th>\n",
       "      <td>2300</td>\n",
       "      <td>19-09-2015</td>\n",
       "      <td>pip fruit</td>\n",
       "    </tr>\n",
       "    <tr>\n",
       "      <th>3</th>\n",
       "      <td>1187</td>\n",
       "      <td>12-12-2015</td>\n",
       "      <td>other vegetables</td>\n",
       "    </tr>\n",
       "    <tr>\n",
       "      <th>4</th>\n",
       "      <td>3037</td>\n",
       "      <td>01-02-2015</td>\n",
       "      <td>whole milk</td>\n",
       "    </tr>\n",
       "  </tbody>\n",
       "</table>\n",
       "</div>"
      ],
      "text/plain": [
       "   Member_number        Date   itemDescription\n",
       "0           1808  21-07-2015    tropical fruit\n",
       "1           2552  05-01-2015        whole milk\n",
       "2           2300  19-09-2015         pip fruit\n",
       "3           1187  12-12-2015  other vegetables\n",
       "4           3037  01-02-2015        whole milk"
      ]
     },
     "execution_count": 15,
     "metadata": {},
     "output_type": "execute_result"
    }
   ],
   "source": [
    "groceries.head()"
   ]
  },
  {
   "cell_type": "markdown",
   "metadata": {},
   "source": [
    "### 2. Cambiar los tipos de datos"
   ]
  },
  {
   "cell_type": "code",
   "execution_count": 16,
   "metadata": {},
   "outputs": [
    {
     "data": {
      "text/plain": [
       "Member_number       int64\n",
       "Date               object\n",
       "itemDescription    object\n",
       "dtype: object"
      ]
     },
     "execution_count": 16,
     "metadata": {},
     "output_type": "execute_result"
    }
   ],
   "source": [
    "groceries.dtypes"
   ]
  },
  {
   "cell_type": "code",
   "execution_count": 12,
   "metadata": {},
   "outputs": [],
   "source": [
    "groceries['Date'] = groceries['Date'].astype('datetime64')"
   ]
  },
  {
   "cell_type": "code",
   "execution_count": 13,
   "metadata": {},
   "outputs": [
    {
     "data": {
      "text/plain": [
       "Member_number               int64\n",
       "Date               datetime64[ns]\n",
       "itemDescription            object\n",
       "dtype: object"
      ]
     },
     "execution_count": 13,
     "metadata": {},
     "output_type": "execute_result"
    }
   ],
   "source": [
    "groceries.dtypes"
   ]
  },
  {
   "cell_type": "markdown",
   "metadata": {},
   "source": [
    "### 3. Cambiar el formato a fecha"
   ]
  },
  {
   "cell_type": "code",
   "execution_count": 17,
   "metadata": {},
   "outputs": [],
   "source": [
    "groceries['Date'] = pd.to_datetime(groceries['Date'])"
   ]
  },
  {
   "cell_type": "code",
   "execution_count": 19,
   "metadata": {},
   "outputs": [
    {
     "data": {
      "text/html": [
       "<div>\n",
       "<style scoped>\n",
       "    .dataframe tbody tr th:only-of-type {\n",
       "        vertical-align: middle;\n",
       "    }\n",
       "\n",
       "    .dataframe tbody tr th {\n",
       "        vertical-align: top;\n",
       "    }\n",
       "\n",
       "    .dataframe thead th {\n",
       "        text-align: right;\n",
       "    }\n",
       "</style>\n",
       "<table border=\"1\" class=\"dataframe\">\n",
       "  <thead>\n",
       "    <tr style=\"text-align: right;\">\n",
       "      <th></th>\n",
       "      <th>Member_number</th>\n",
       "      <th>Date</th>\n",
       "      <th>itemDescription</th>\n",
       "    </tr>\n",
       "  </thead>\n",
       "  <tbody>\n",
       "    <tr>\n",
       "      <th>0</th>\n",
       "      <td>1808</td>\n",
       "      <td>2015-07-21</td>\n",
       "      <td>tropical fruit</td>\n",
       "    </tr>\n",
       "    <tr>\n",
       "      <th>1</th>\n",
       "      <td>2552</td>\n",
       "      <td>2015-05-01</td>\n",
       "      <td>whole milk</td>\n",
       "    </tr>\n",
       "    <tr>\n",
       "      <th>2</th>\n",
       "      <td>2300</td>\n",
       "      <td>2015-09-19</td>\n",
       "      <td>pip fruit</td>\n",
       "    </tr>\n",
       "    <tr>\n",
       "      <th>3</th>\n",
       "      <td>1187</td>\n",
       "      <td>2015-12-12</td>\n",
       "      <td>other vegetables</td>\n",
       "    </tr>\n",
       "    <tr>\n",
       "      <th>4</th>\n",
       "      <td>3037</td>\n",
       "      <td>2015-01-02</td>\n",
       "      <td>whole milk</td>\n",
       "    </tr>\n",
       "  </tbody>\n",
       "</table>\n",
       "</div>"
      ],
      "text/plain": [
       "   Member_number       Date   itemDescription\n",
       "0           1808 2015-07-21    tropical fruit\n",
       "1           2552 2015-05-01        whole milk\n",
       "2           2300 2015-09-19         pip fruit\n",
       "3           1187 2015-12-12  other vegetables\n",
       "4           3037 2015-01-02        whole milk"
      ]
     },
     "execution_count": 19,
     "metadata": {},
     "output_type": "execute_result"
    }
   ],
   "source": [
    "groceries.head()"
   ]
  },
  {
   "cell_type": "code",
   "execution_count": null,
   "metadata": {},
   "outputs": [],
   "source": []
  },
  {
   "cell_type": "code",
   "execution_count": null,
   "metadata": {},
   "outputs": [],
   "source": []
  },
  {
   "cell_type": "code",
   "execution_count": null,
   "metadata": {},
   "outputs": [],
   "source": []
  },
  {
   "cell_type": "code",
   "execution_count": null,
   "metadata": {},
   "outputs": [],
   "source": []
  },
  {
   "cell_type": "code",
   "execution_count": null,
   "metadata": {},
   "outputs": [],
   "source": []
  }
 ],
 "metadata": {
  "kernelspec": {
   "display_name": "Python 3",
   "language": "python",
   "name": "python3"
  },
  "language_info": {
   "codemirror_mode": {
    "name": "ipython",
    "version": 3
   },
   "file_extension": ".py",
   "mimetype": "text/x-python",
   "name": "python",
   "nbconvert_exporter": "python",
   "pygments_lexer": "ipython3",
   "version": "3.11.5"
  }
 },
 "nbformat": 4,
 "nbformat_minor": 4
}
