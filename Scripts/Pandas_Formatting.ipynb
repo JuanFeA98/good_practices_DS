{
 "cells": [
  {
   "cell_type": "markdown",
   "metadata": {},
   "source": [
    "# **Pandas**"
   ]
  },
  {
   "cell_type": "markdown",
   "metadata": {},
   "source": [
    "### **Librerías**"
   ]
  },
  {
   "cell_type": "code",
   "execution_count": 1,
   "metadata": {},
   "outputs": [],
   "source": [
    "import pandas as pd\n",
    "import numpy as np"
   ]
  },
  {
   "cell_type": "markdown",
   "metadata": {},
   "source": [
    "### **Datos**"
   ]
  },
  {
   "cell_type": "code",
   "execution_count": 2,
   "metadata": {},
   "outputs": [],
   "source": [
    "# Data para el producto A\n",
    "\n",
    "df_a = pd.DataFrame({\n",
    "    'Month':pd.date_range(\n",
    "        start = '01-01-2012',\n",
    "        end = '31-12-2022',\n",
    "        freq = 'MS'\n",
    "    ),\n",
    "    'Quotes':np.random.randint(\n",
    "        low = 1_000_000,\n",
    "        high = 2_500_000,\n",
    "        size = 132\n",
    "    ),\n",
    "    'Numbers':np.random.randint(\n",
    "        low = 300_000,\n",
    "        high = 500_000,\n",
    "        size = 132\n",
    "    ),\n",
    "    'Amounts':np.random.randint(\n",
    "        low = 750_000,\n",
    "        high = 1_250_000,\n",
    "        size = 132\n",
    "    )\n",
    "})\n",
    "\n",
    "df_a['Product'] = 'A'\n",
    "\n",
    "# Data para el producto B\n",
    "\n",
    "df_b = pd.DataFrame({\n",
    "    'Month':pd.date_range(\n",
    "        start = '01-01-2012',\n",
    "        end = '31-12-2022',\n",
    "        freq = 'MS'\n",
    "    ),\n",
    "    'Quotes':np.random.randint(\n",
    "        low = 100_000,\n",
    "        high = 800_000,\n",
    "        size = 132\n",
    "    ),\n",
    "    'Numbers':np.random.randint(\n",
    "        low = 10_000,\n",
    "        high = 95_000,\n",
    "        size = 132\n",
    "    ),\n",
    "    'Amounts':np.random.randint(\n",
    "        low = 450_000,\n",
    "        high = 750_000,\n",
    "        size = 132\n",
    "    )\n",
    "})\n",
    "\n",
    "df_b['Product'] = 'B'"
   ]
  },
  {
   "cell_type": "code",
   "execution_count": 3,
   "metadata": {},
   "outputs": [
    {
     "data": {
      "text/html": [
       "<div>\n",
       "<style scoped>\n",
       "    .dataframe tbody tr th:only-of-type {\n",
       "        vertical-align: middle;\n",
       "    }\n",
       "\n",
       "    .dataframe tbody tr th {\n",
       "        vertical-align: top;\n",
       "    }\n",
       "\n",
       "    .dataframe thead th {\n",
       "        text-align: right;\n",
       "    }\n",
       "</style>\n",
       "<table border=\"1\" class=\"dataframe\">\n",
       "  <thead>\n",
       "    <tr style=\"text-align: right;\">\n",
       "      <th></th>\n",
       "      <th>Month</th>\n",
       "      <th>Quotes</th>\n",
       "      <th>Numbers</th>\n",
       "      <th>Amounts</th>\n",
       "      <th>Product</th>\n",
       "    </tr>\n",
       "  </thead>\n",
       "  <tbody>\n",
       "    <tr>\n",
       "      <th>0</th>\n",
       "      <td>2012-01-01</td>\n",
       "      <td>1297877</td>\n",
       "      <td>427302</td>\n",
       "      <td>893590</td>\n",
       "      <td>A</td>\n",
       "    </tr>\n",
       "    <tr>\n",
       "      <th>1</th>\n",
       "      <td>2012-01-01</td>\n",
       "      <td>557071</td>\n",
       "      <td>44383</td>\n",
       "      <td>648487</td>\n",
       "      <td>B</td>\n",
       "    </tr>\n",
       "    <tr>\n",
       "      <th>2</th>\n",
       "      <td>2012-02-01</td>\n",
       "      <td>2493819</td>\n",
       "      <td>358599</td>\n",
       "      <td>1089789</td>\n",
       "      <td>A</td>\n",
       "    </tr>\n",
       "    <tr>\n",
       "      <th>3</th>\n",
       "      <td>2012-02-01</td>\n",
       "      <td>150071</td>\n",
       "      <td>31385</td>\n",
       "      <td>738013</td>\n",
       "      <td>B</td>\n",
       "    </tr>\n",
       "    <tr>\n",
       "      <th>4</th>\n",
       "      <td>2012-03-01</td>\n",
       "      <td>1307998</td>\n",
       "      <td>359458</td>\n",
       "      <td>807437</td>\n",
       "      <td>A</td>\n",
       "    </tr>\n",
       "  </tbody>\n",
       "</table>\n",
       "</div>"
      ],
      "text/plain": [
       "       Month   Quotes  Numbers  Amounts Product\n",
       "0 2012-01-01  1297877   427302   893590       A\n",
       "1 2012-01-01   557071    44383   648487       B\n",
       "2 2012-02-01  2493819   358599  1089789       A\n",
       "3 2012-02-01   150071    31385   738013       B\n",
       "4 2012-03-01  1307998   359458   807437       A"
      ]
     },
     "execution_count": 3,
     "metadata": {},
     "output_type": "execute_result"
    }
   ],
   "source": [
    "# Combinamos los datos\n",
    "df = pd.concat([df_a, df_b], axis=0)\n",
    "df.sort_values(by='Month', inplace=True)\n",
    "df.reset_index(drop=True, inplace=True)\n",
    "df.head()"
   ]
  },
  {
   "cell_type": "code",
   "execution_count": 4,
   "metadata": {},
   "outputs": [],
   "source": [
    "# Columnas calculadas \n",
    "df['Average_Sale'] = df['Amounts'] / df['Numbers']\n",
    "df['Product_Conversion'] = df['Numbers'] / df['Quotes']"
   ]
  },
  {
   "cell_type": "code",
   "execution_count": 5,
   "metadata": {},
   "outputs": [
    {
     "data": {
      "text/html": [
       "<div>\n",
       "<style scoped>\n",
       "    .dataframe tbody tr th:only-of-type {\n",
       "        vertical-align: middle;\n",
       "    }\n",
       "\n",
       "    .dataframe tbody tr th {\n",
       "        vertical-align: top;\n",
       "    }\n",
       "\n",
       "    .dataframe thead th {\n",
       "        text-align: right;\n",
       "    }\n",
       "</style>\n",
       "<table border=\"1\" class=\"dataframe\">\n",
       "  <thead>\n",
       "    <tr style=\"text-align: right;\">\n",
       "      <th></th>\n",
       "      <th>Month</th>\n",
       "      <th>Quotes</th>\n",
       "      <th>Numbers</th>\n",
       "      <th>Amounts</th>\n",
       "      <th>Product</th>\n",
       "      <th>Average_Sale</th>\n",
       "      <th>Product_Conversion</th>\n",
       "    </tr>\n",
       "  </thead>\n",
       "  <tbody>\n",
       "    <tr>\n",
       "      <th>0</th>\n",
       "      <td>2012-01-01</td>\n",
       "      <td>1297877</td>\n",
       "      <td>427302</td>\n",
       "      <td>893590</td>\n",
       "      <td>A</td>\n",
       "      <td>2.091238</td>\n",
       "      <td>0.329232</td>\n",
       "    </tr>\n",
       "    <tr>\n",
       "      <th>1</th>\n",
       "      <td>2012-01-01</td>\n",
       "      <td>557071</td>\n",
       "      <td>44383</td>\n",
       "      <td>648487</td>\n",
       "      <td>B</td>\n",
       "      <td>14.611157</td>\n",
       "      <td>0.079672</td>\n",
       "    </tr>\n",
       "    <tr>\n",
       "      <th>2</th>\n",
       "      <td>2012-02-01</td>\n",
       "      <td>2493819</td>\n",
       "      <td>358599</td>\n",
       "      <td>1089789</td>\n",
       "      <td>A</td>\n",
       "      <td>3.039019</td>\n",
       "      <td>0.143795</td>\n",
       "    </tr>\n",
       "    <tr>\n",
       "      <th>3</th>\n",
       "      <td>2012-02-01</td>\n",
       "      <td>150071</td>\n",
       "      <td>31385</td>\n",
       "      <td>738013</td>\n",
       "      <td>B</td>\n",
       "      <td>23.514832</td>\n",
       "      <td>0.209134</td>\n",
       "    </tr>\n",
       "    <tr>\n",
       "      <th>4</th>\n",
       "      <td>2012-03-01</td>\n",
       "      <td>1307998</td>\n",
       "      <td>359458</td>\n",
       "      <td>807437</td>\n",
       "      <td>A</td>\n",
       "      <td>2.246262</td>\n",
       "      <td>0.274815</td>\n",
       "    </tr>\n",
       "  </tbody>\n",
       "</table>\n",
       "</div>"
      ],
      "text/plain": [
       "       Month   Quotes  Numbers  Amounts Product  Average_Sale  \\\n",
       "0 2012-01-01  1297877   427302   893590       A      2.091238   \n",
       "1 2012-01-01   557071    44383   648487       B     14.611157   \n",
       "2 2012-02-01  2493819   358599  1089789       A      3.039019   \n",
       "3 2012-02-01   150071    31385   738013       B     23.514832   \n",
       "4 2012-03-01  1307998   359458   807437       A      2.246262   \n",
       "\n",
       "   Product_Conversion  \n",
       "0            0.329232  \n",
       "1            0.079672  \n",
       "2            0.143795  \n",
       "3            0.209134  \n",
       "4            0.274815  "
      ]
     },
     "execution_count": 5,
     "metadata": {},
     "output_type": "execute_result"
    }
   ],
   "source": [
    "df.head()"
   ]
  },
  {
   "cell_type": "markdown",
   "metadata": {},
   "source": [
    "### **1. Ajuste del formato**"
   ]
  },
  {
   "cell_type": "code",
   "execution_count": 9,
   "metadata": {},
   "outputs": [
    {
     "data": {
      "text/html": [
       "<style type=\"text/css\">\n",
       "</style>\n",
       "<table id=\"T_e0afc\">\n",
       "  <thead>\n",
       "    <tr>\n",
       "      <th class=\"blank level0\" >&nbsp;</th>\n",
       "      <th id=\"T_e0afc_level0_col0\" class=\"col_heading level0 col0\" >Month</th>\n",
       "      <th id=\"T_e0afc_level0_col1\" class=\"col_heading level0 col1\" >Quotes</th>\n",
       "      <th id=\"T_e0afc_level0_col2\" class=\"col_heading level0 col2\" >Numbers</th>\n",
       "      <th id=\"T_e0afc_level0_col3\" class=\"col_heading level0 col3\" >Amounts</th>\n",
       "      <th id=\"T_e0afc_level0_col4\" class=\"col_heading level0 col4\" >Product</th>\n",
       "      <th id=\"T_e0afc_level0_col5\" class=\"col_heading level0 col5\" >Average_Sale</th>\n",
       "      <th id=\"T_e0afc_level0_col6\" class=\"col_heading level0 col6\" >Product_Conversion</th>\n",
       "    </tr>\n",
       "  </thead>\n",
       "  <tbody>\n",
       "    <tr>\n",
       "      <th id=\"T_e0afc_level0_row0\" class=\"row_heading level0 row0\" >0</th>\n",
       "      <td id=\"T_e0afc_row0_col0\" class=\"data row0 col0\" >Jan-2012</td>\n",
       "      <td id=\"T_e0afc_row0_col1\" class=\"data row0 col1\" >1,297,877</td>\n",
       "      <td id=\"T_e0afc_row0_col2\" class=\"data row0 col2\" >427,302</td>\n",
       "      <td id=\"T_e0afc_row0_col3\" class=\"data row0 col3\" >$893,590</td>\n",
       "      <td id=\"T_e0afc_row0_col4\" class=\"data row0 col4\" >A</td>\n",
       "      <td id=\"T_e0afc_row0_col5\" class=\"data row0 col5\" >$2.09</td>\n",
       "      <td id=\"T_e0afc_row0_col6\" class=\"data row0 col6\" >32.92%</td>\n",
       "    </tr>\n",
       "    <tr>\n",
       "      <th id=\"T_e0afc_level0_row1\" class=\"row_heading level0 row1\" >1</th>\n",
       "      <td id=\"T_e0afc_row1_col0\" class=\"data row1 col0\" >Jan-2012</td>\n",
       "      <td id=\"T_e0afc_row1_col1\" class=\"data row1 col1\" >557,071</td>\n",
       "      <td id=\"T_e0afc_row1_col2\" class=\"data row1 col2\" >44,383</td>\n",
       "      <td id=\"T_e0afc_row1_col3\" class=\"data row1 col3\" >$648,487</td>\n",
       "      <td id=\"T_e0afc_row1_col4\" class=\"data row1 col4\" >B</td>\n",
       "      <td id=\"T_e0afc_row1_col5\" class=\"data row1 col5\" >$14.61</td>\n",
       "      <td id=\"T_e0afc_row1_col6\" class=\"data row1 col6\" >7.97%</td>\n",
       "    </tr>\n",
       "    <tr>\n",
       "      <th id=\"T_e0afc_level0_row2\" class=\"row_heading level0 row2\" >2</th>\n",
       "      <td id=\"T_e0afc_row2_col0\" class=\"data row2 col0\" >Feb-2012</td>\n",
       "      <td id=\"T_e0afc_row2_col1\" class=\"data row2 col1\" >2,493,819</td>\n",
       "      <td id=\"T_e0afc_row2_col2\" class=\"data row2 col2\" >358,599</td>\n",
       "      <td id=\"T_e0afc_row2_col3\" class=\"data row2 col3\" >$1,089,789</td>\n",
       "      <td id=\"T_e0afc_row2_col4\" class=\"data row2 col4\" >A</td>\n",
       "      <td id=\"T_e0afc_row2_col5\" class=\"data row2 col5\" >$3.04</td>\n",
       "      <td id=\"T_e0afc_row2_col6\" class=\"data row2 col6\" >14.38%</td>\n",
       "    </tr>\n",
       "    <tr>\n",
       "      <th id=\"T_e0afc_level0_row3\" class=\"row_heading level0 row3\" >3</th>\n",
       "      <td id=\"T_e0afc_row3_col0\" class=\"data row3 col0\" >Feb-2012</td>\n",
       "      <td id=\"T_e0afc_row3_col1\" class=\"data row3 col1\" >150,071</td>\n",
       "      <td id=\"T_e0afc_row3_col2\" class=\"data row3 col2\" >31,385</td>\n",
       "      <td id=\"T_e0afc_row3_col3\" class=\"data row3 col3\" >$738,013</td>\n",
       "      <td id=\"T_e0afc_row3_col4\" class=\"data row3 col4\" >B</td>\n",
       "      <td id=\"T_e0afc_row3_col5\" class=\"data row3 col5\" >$23.51</td>\n",
       "      <td id=\"T_e0afc_row3_col6\" class=\"data row3 col6\" >20.91%</td>\n",
       "    </tr>\n",
       "    <tr>\n",
       "      <th id=\"T_e0afc_level0_row4\" class=\"row_heading level0 row4\" >4</th>\n",
       "      <td id=\"T_e0afc_row4_col0\" class=\"data row4 col0\" >Mar-2012</td>\n",
       "      <td id=\"T_e0afc_row4_col1\" class=\"data row4 col1\" >1,307,998</td>\n",
       "      <td id=\"T_e0afc_row4_col2\" class=\"data row4 col2\" >359,458</td>\n",
       "      <td id=\"T_e0afc_row4_col3\" class=\"data row4 col3\" >$807,437</td>\n",
       "      <td id=\"T_e0afc_row4_col4\" class=\"data row4 col4\" >A</td>\n",
       "      <td id=\"T_e0afc_row4_col5\" class=\"data row4 col5\" >$2.25</td>\n",
       "      <td id=\"T_e0afc_row4_col6\" class=\"data row4 col6\" >27.48%</td>\n",
       "    </tr>\n",
       "  </tbody>\n",
       "</table>\n"
      ],
      "text/plain": [
       "<pandas.io.formats.style.Styler at 0x2002695b610>"
      ]
     },
     "execution_count": 9,
     "metadata": {},
     "output_type": "execute_result"
    }
   ],
   "source": [
    "# Ajustamos los formatos de los números\n",
    "df.head().style.format({\n",
    "    # Ajustamos el formato de fecha\n",
    "    # 'Month': '{:%Y-%m}',\n",
    "    # 'Month': '{:%B-%Y}',\n",
    "    'Month': '{:%b-%Y}',\n",
    "\n",
    "    # Ajustamos el formato de los números\n",
    "    'Quotes': '{:,.0f}',\n",
    "    'Numbers': '{:,.0f}',\n",
    "    'Amounts': '${:,.0f}',\n",
    "    # 'Average_Sale': '{:,.2f} ($)',\n",
    "    'Average_Sale': '${:,.2f}',\n",
    "    'Product_Conversion': '{:.2%}',\n",
    "})\n",
    "# .hide()"
   ]
  },
  {
   "cell_type": "markdown",
   "metadata": {},
   "source": [
    "### **2. Ajuste del formato condicional**"
   ]
  },
  {
   "cell_type": "markdown",
   "metadata": {},
   "source": [
    "##### **Filtrar por una categoría**"
   ]
  },
  {
   "cell_type": "code",
   "execution_count": 53,
   "metadata": {},
   "outputs": [],
   "source": [
    "def highlight_product(row_data, product, color='yellow'):\n",
    "    \"\"\"\n",
    "    Resalta las filas del DataFrame basándose en el valor de la columna 'Product'.\n",
    "\n",
    "    Args:\n",
    "        row_data (pd.Series): Una fila del DataFrame.\n",
    "        product (any): La columna con la cual se resaltarán las filas.\n",
    "        color (str, optional): El color para resaltar las filas. Por defecto, 'yellow'.\n",
    "\n",
    "    Returns:\n",
    "        List[str]: Lista de strings con estilo CSS para resaltar la fila.\n",
    "    \"\"\"\n",
    "    \n",
    "    # Crea una nueva Serie de pandas llamada 'row' con valores booleanos inicializados en False\n",
    "    row = pd.Series(data=False, index=row_data.index)\n",
    "\n",
    "    # Establece el valor en True para la columna 'Product' si el valor en esa fila es igual al producto proporcionado\n",
    "    row['Product'] = row_data.loc['Product'] == product\n",
    "\n",
    "    # Retorna una lista de strings con el formato 'background-color: {color}' si al menos un valor en 'row' es True\n",
    "    return [f'background-color: {color}' if row.any() else '' for value in row]\n"
   ]
  },
  {
   "cell_type": "code",
   "execution_count": 54,
   "metadata": {},
   "outputs": [
    {
     "data": {
      "text/html": [
       "<style type=\"text/css\">\n",
       "#T_a7cb9_row0_col0, #T_a7cb9_row0_col1, #T_a7cb9_row0_col2, #T_a7cb9_row0_col3, #T_a7cb9_row0_col4, #T_a7cb9_row0_col5, #T_a7cb9_row0_col6, #T_a7cb9_row2_col0, #T_a7cb9_row2_col1, #T_a7cb9_row2_col2, #T_a7cb9_row2_col3, #T_a7cb9_row2_col4, #T_a7cb9_row2_col5, #T_a7cb9_row2_col6, #T_a7cb9_row4_col0, #T_a7cb9_row4_col1, #T_a7cb9_row4_col2, #T_a7cb9_row4_col3, #T_a7cb9_row4_col4, #T_a7cb9_row4_col5, #T_a7cb9_row4_col6 {\n",
       "  background-color: #18314f;\n",
       "}\n",
       "</style>\n",
       "<table id=\"T_a7cb9\">\n",
       "  <thead>\n",
       "    <tr>\n",
       "      <th id=\"T_a7cb9_level0_col0\" class=\"col_heading level0 col0\" >Month</th>\n",
       "      <th id=\"T_a7cb9_level0_col1\" class=\"col_heading level0 col1\" >Quotes</th>\n",
       "      <th id=\"T_a7cb9_level0_col2\" class=\"col_heading level0 col2\" >Numbers</th>\n",
       "      <th id=\"T_a7cb9_level0_col3\" class=\"col_heading level0 col3\" >Amounts</th>\n",
       "      <th id=\"T_a7cb9_level0_col4\" class=\"col_heading level0 col4\" >Product</th>\n",
       "      <th id=\"T_a7cb9_level0_col5\" class=\"col_heading level0 col5\" >Average_Sale</th>\n",
       "      <th id=\"T_a7cb9_level0_col6\" class=\"col_heading level0 col6\" >Product_Conversion</th>\n",
       "    </tr>\n",
       "  </thead>\n",
       "  <tbody>\n",
       "    <tr>\n",
       "      <td id=\"T_a7cb9_row0_col0\" class=\"data row0 col0\" >Jan-2012</td>\n",
       "      <td id=\"T_a7cb9_row0_col1\" class=\"data row0 col1\" >1,297,877</td>\n",
       "      <td id=\"T_a7cb9_row0_col2\" class=\"data row0 col2\" >427,302</td>\n",
       "      <td id=\"T_a7cb9_row0_col3\" class=\"data row0 col3\" >$893,590</td>\n",
       "      <td id=\"T_a7cb9_row0_col4\" class=\"data row0 col4\" >A</td>\n",
       "      <td id=\"T_a7cb9_row0_col5\" class=\"data row0 col5\" >$2.09</td>\n",
       "      <td id=\"T_a7cb9_row0_col6\" class=\"data row0 col6\" >32.92%</td>\n",
       "    </tr>\n",
       "    <tr>\n",
       "      <td id=\"T_a7cb9_row1_col0\" class=\"data row1 col0\" >Jan-2012</td>\n",
       "      <td id=\"T_a7cb9_row1_col1\" class=\"data row1 col1\" >557,071</td>\n",
       "      <td id=\"T_a7cb9_row1_col2\" class=\"data row1 col2\" >44,383</td>\n",
       "      <td id=\"T_a7cb9_row1_col3\" class=\"data row1 col3\" >$648,487</td>\n",
       "      <td id=\"T_a7cb9_row1_col4\" class=\"data row1 col4\" >B</td>\n",
       "      <td id=\"T_a7cb9_row1_col5\" class=\"data row1 col5\" >$14.61</td>\n",
       "      <td id=\"T_a7cb9_row1_col6\" class=\"data row1 col6\" >7.97%</td>\n",
       "    </tr>\n",
       "    <tr>\n",
       "      <td id=\"T_a7cb9_row2_col0\" class=\"data row2 col0\" >Feb-2012</td>\n",
       "      <td id=\"T_a7cb9_row2_col1\" class=\"data row2 col1\" >2,493,819</td>\n",
       "      <td id=\"T_a7cb9_row2_col2\" class=\"data row2 col2\" >358,599</td>\n",
       "      <td id=\"T_a7cb9_row2_col3\" class=\"data row2 col3\" >$1,089,789</td>\n",
       "      <td id=\"T_a7cb9_row2_col4\" class=\"data row2 col4\" >A</td>\n",
       "      <td id=\"T_a7cb9_row2_col5\" class=\"data row2 col5\" >$3.04</td>\n",
       "      <td id=\"T_a7cb9_row2_col6\" class=\"data row2 col6\" >14.38%</td>\n",
       "    </tr>\n",
       "    <tr>\n",
       "      <td id=\"T_a7cb9_row3_col0\" class=\"data row3 col0\" >Feb-2012</td>\n",
       "      <td id=\"T_a7cb9_row3_col1\" class=\"data row3 col1\" >150,071</td>\n",
       "      <td id=\"T_a7cb9_row3_col2\" class=\"data row3 col2\" >31,385</td>\n",
       "      <td id=\"T_a7cb9_row3_col3\" class=\"data row3 col3\" >$738,013</td>\n",
       "      <td id=\"T_a7cb9_row3_col4\" class=\"data row3 col4\" >B</td>\n",
       "      <td id=\"T_a7cb9_row3_col5\" class=\"data row3 col5\" >$23.51</td>\n",
       "      <td id=\"T_a7cb9_row3_col6\" class=\"data row3 col6\" >20.91%</td>\n",
       "    </tr>\n",
       "    <tr>\n",
       "      <td id=\"T_a7cb9_row4_col0\" class=\"data row4 col0\" >Mar-2012</td>\n",
       "      <td id=\"T_a7cb9_row4_col1\" class=\"data row4 col1\" >1,307,998</td>\n",
       "      <td id=\"T_a7cb9_row4_col2\" class=\"data row4 col2\" >359,458</td>\n",
       "      <td id=\"T_a7cb9_row4_col3\" class=\"data row4 col3\" >$807,437</td>\n",
       "      <td id=\"T_a7cb9_row4_col4\" class=\"data row4 col4\" >A</td>\n",
       "      <td id=\"T_a7cb9_row4_col5\" class=\"data row4 col5\" >$2.25</td>\n",
       "      <td id=\"T_a7cb9_row4_col6\" class=\"data row4 col6\" >27.48%</td>\n",
       "    </tr>\n",
       "  </tbody>\n",
       "</table>\n"
      ],
      "text/plain": [
       "<pandas.io.formats.style.Styler at 0x2002b3d7c10>"
      ]
     },
     "execution_count": 54,
     "metadata": {},
     "output_type": "execute_result"
    }
   ],
   "source": [
    "# Aplicamos la condición sobre las categorías\n",
    "df.head().style.apply(\n",
    "    highlight_product, product='A', color='#18314f', axis=1\n",
    ").format({\n",
    "    # Ajustamos el formato de fecha\n",
    "    'Month': '{:%b-%Y}',\n",
    "\n",
    "    # Ajustamos el formato de los números\n",
    "    'Quotes': '{:,.0f}',\n",
    "    'Numbers': '{:,.0f}',\n",
    "    'Amounts': '${:,.0f}',\n",
    "    'Average_Sale': '${:,.2f}',\n",
    "    'Product_Conversion': '{:.2%}',\n",
    "}).hide()"
   ]
  },
  {
   "cell_type": "markdown",
   "metadata": {},
   "source": [
    "##### **Filtrar por valores numéricos**"
   ]
  },
  {
   "cell_type": "code",
   "execution_count": 28,
   "metadata": {},
   "outputs": [],
   "source": [
    "def highlight_average_sale(s, sale_threshold=5, color='yellow'):\n",
    "    row = pd.Series(data=False, index=s.index)\n",
    "    row['Product'] = s.loc['Average_Sale'] > sale_threshold\n",
    "\n",
    "    return [f'background-color: {color}' if row.any() else '' for value in row]"
   ]
  },
  {
   "cell_type": "code",
   "execution_count": 33,
   "metadata": {},
   "outputs": [
    {
     "data": {
      "text/html": [
       "<style type=\"text/css\">\n",
       "#T_12574_row1_col0, #T_12574_row1_col1, #T_12574_row1_col2, #T_12574_row1_col3, #T_12574_row1_col4, #T_12574_row1_col5, #T_12574_row1_col6, #T_12574_row2_col0, #T_12574_row2_col1, #T_12574_row2_col2, #T_12574_row2_col3, #T_12574_row2_col4, #T_12574_row2_col5, #T_12574_row2_col6, #T_12574_row3_col0, #T_12574_row3_col1, #T_12574_row3_col2, #T_12574_row3_col3, #T_12574_row3_col4, #T_12574_row3_col5, #T_12574_row3_col6 {\n",
       "  background-color: #18314f;\n",
       "}\n",
       "</style>\n",
       "<table id=\"T_12574\">\n",
       "  <thead>\n",
       "    <tr>\n",
       "      <th id=\"T_12574_level0_col0\" class=\"col_heading level0 col0\" >Month</th>\n",
       "      <th id=\"T_12574_level0_col1\" class=\"col_heading level0 col1\" >Quotes</th>\n",
       "      <th id=\"T_12574_level0_col2\" class=\"col_heading level0 col2\" >Numbers</th>\n",
       "      <th id=\"T_12574_level0_col3\" class=\"col_heading level0 col3\" >Amounts</th>\n",
       "      <th id=\"T_12574_level0_col4\" class=\"col_heading level0 col4\" >Product</th>\n",
       "      <th id=\"T_12574_level0_col5\" class=\"col_heading level0 col5\" >Average_Sale</th>\n",
       "      <th id=\"T_12574_level0_col6\" class=\"col_heading level0 col6\" >Product_Conversion</th>\n",
       "    </tr>\n",
       "  </thead>\n",
       "  <tbody>\n",
       "    <tr>\n",
       "      <td id=\"T_12574_row0_col0\" class=\"data row0 col0\" >Jan-2012</td>\n",
       "      <td id=\"T_12574_row0_col1\" class=\"data row0 col1\" >1,297,877</td>\n",
       "      <td id=\"T_12574_row0_col2\" class=\"data row0 col2\" >427,302</td>\n",
       "      <td id=\"T_12574_row0_col3\" class=\"data row0 col3\" >$893,590</td>\n",
       "      <td id=\"T_12574_row0_col4\" class=\"data row0 col4\" >A</td>\n",
       "      <td id=\"T_12574_row0_col5\" class=\"data row0 col5\" >$2.09</td>\n",
       "      <td id=\"T_12574_row0_col6\" class=\"data row0 col6\" >32.92%</td>\n",
       "    </tr>\n",
       "    <tr>\n",
       "      <td id=\"T_12574_row1_col0\" class=\"data row1 col0\" >Jan-2012</td>\n",
       "      <td id=\"T_12574_row1_col1\" class=\"data row1 col1\" >557,071</td>\n",
       "      <td id=\"T_12574_row1_col2\" class=\"data row1 col2\" >44,383</td>\n",
       "      <td id=\"T_12574_row1_col3\" class=\"data row1 col3\" >$648,487</td>\n",
       "      <td id=\"T_12574_row1_col4\" class=\"data row1 col4\" >B</td>\n",
       "      <td id=\"T_12574_row1_col5\" class=\"data row1 col5\" >$14.61</td>\n",
       "      <td id=\"T_12574_row1_col6\" class=\"data row1 col6\" >7.97%</td>\n",
       "    </tr>\n",
       "    <tr>\n",
       "      <td id=\"T_12574_row2_col0\" class=\"data row2 col0\" >Feb-2012</td>\n",
       "      <td id=\"T_12574_row2_col1\" class=\"data row2 col1\" >2,493,819</td>\n",
       "      <td id=\"T_12574_row2_col2\" class=\"data row2 col2\" >358,599</td>\n",
       "      <td id=\"T_12574_row2_col3\" class=\"data row2 col3\" >$1,089,789</td>\n",
       "      <td id=\"T_12574_row2_col4\" class=\"data row2 col4\" >A</td>\n",
       "      <td id=\"T_12574_row2_col5\" class=\"data row2 col5\" >$3.04</td>\n",
       "      <td id=\"T_12574_row2_col6\" class=\"data row2 col6\" >14.38%</td>\n",
       "    </tr>\n",
       "    <tr>\n",
       "      <td id=\"T_12574_row3_col0\" class=\"data row3 col0\" >Feb-2012</td>\n",
       "      <td id=\"T_12574_row3_col1\" class=\"data row3 col1\" >150,071</td>\n",
       "      <td id=\"T_12574_row3_col2\" class=\"data row3 col2\" >31,385</td>\n",
       "      <td id=\"T_12574_row3_col3\" class=\"data row3 col3\" >$738,013</td>\n",
       "      <td id=\"T_12574_row3_col4\" class=\"data row3 col4\" >B</td>\n",
       "      <td id=\"T_12574_row3_col5\" class=\"data row3 col5\" >$23.51</td>\n",
       "      <td id=\"T_12574_row3_col6\" class=\"data row3 col6\" >20.91%</td>\n",
       "    </tr>\n",
       "    <tr>\n",
       "      <td id=\"T_12574_row4_col0\" class=\"data row4 col0\" >Mar-2012</td>\n",
       "      <td id=\"T_12574_row4_col1\" class=\"data row4 col1\" >1,307,998</td>\n",
       "      <td id=\"T_12574_row4_col2\" class=\"data row4 col2\" >359,458</td>\n",
       "      <td id=\"T_12574_row4_col3\" class=\"data row4 col3\" >$807,437</td>\n",
       "      <td id=\"T_12574_row4_col4\" class=\"data row4 col4\" >A</td>\n",
       "      <td id=\"T_12574_row4_col5\" class=\"data row4 col5\" >$2.25</td>\n",
       "      <td id=\"T_12574_row4_col6\" class=\"data row4 col6\" >27.48%</td>\n",
       "    </tr>\n",
       "  </tbody>\n",
       "</table>\n"
      ],
      "text/plain": [
       "<pandas.io.formats.style.Styler at 0x2002b1090d0>"
      ]
     },
     "execution_count": 33,
     "metadata": {},
     "output_type": "execute_result"
    }
   ],
   "source": [
    "# Aplicamos la condición sobre valores numéricos\n",
    "df.head().style.apply(\n",
    "    highlight_average_sale, sale_threshold=3, axis=1, color='#18314f'\n",
    ").format({\n",
    "    # Ajustamos el formato de fecha\n",
    "    'Month': '{:%b-%Y}',\n",
    "\n",
    "    # Ajustamos el formato de los números\n",
    "    'Quotes': '{:,.0f}',\n",
    "    'Numbers': '{:,.0f}',\n",
    "    'Amounts': '${:,.0f}',\n",
    "    'Average_Sale': '${:,.2f}',\n",
    "    'Product_Conversion': '{:.2%}',\n",
    "}).hide()"
   ]
  },
  {
   "cell_type": "code",
   "execution_count": null,
   "metadata": {},
   "outputs": [],
   "source": []
  },
  {
   "cell_type": "code",
   "execution_count": null,
   "metadata": {},
   "outputs": [],
   "source": []
  },
  {
   "cell_type": "code",
   "execution_count": null,
   "metadata": {},
   "outputs": [],
   "source": []
  },
  {
   "cell_type": "code",
   "execution_count": 4,
   "metadata": {},
   "outputs": [],
   "source": [
    "marketing = pd.read_csv('./data/DirectMarketing.csv')"
   ]
  },
  {
   "cell_type": "code",
   "execution_count": 5,
   "metadata": {},
   "outputs": [
    {
     "data": {
      "text/html": [
       "<div>\n",
       "<style scoped>\n",
       "    .dataframe tbody tr th:only-of-type {\n",
       "        vertical-align: middle;\n",
       "    }\n",
       "\n",
       "    .dataframe tbody tr th {\n",
       "        vertical-align: top;\n",
       "    }\n",
       "\n",
       "    .dataframe thead th {\n",
       "        text-align: right;\n",
       "    }\n",
       "</style>\n",
       "<table border=\"1\" class=\"dataframe\">\n",
       "  <thead>\n",
       "    <tr style=\"text-align: right;\">\n",
       "      <th></th>\n",
       "      <th>Age</th>\n",
       "      <th>Gender</th>\n",
       "      <th>OwnHome</th>\n",
       "      <th>Married</th>\n",
       "      <th>Location</th>\n",
       "      <th>Salary</th>\n",
       "      <th>Children</th>\n",
       "      <th>History</th>\n",
       "      <th>Catalogs</th>\n",
       "      <th>AmountSpent</th>\n",
       "    </tr>\n",
       "  </thead>\n",
       "  <tbody>\n",
       "    <tr>\n",
       "      <th>0</th>\n",
       "      <td>Old</td>\n",
       "      <td>Female</td>\n",
       "      <td>Own</td>\n",
       "      <td>Single</td>\n",
       "      <td>Far</td>\n",
       "      <td>47500</td>\n",
       "      <td>0</td>\n",
       "      <td>High</td>\n",
       "      <td>6</td>\n",
       "      <td>755</td>\n",
       "    </tr>\n",
       "    <tr>\n",
       "      <th>1</th>\n",
       "      <td>Middle</td>\n",
       "      <td>Male</td>\n",
       "      <td>Rent</td>\n",
       "      <td>Single</td>\n",
       "      <td>Close</td>\n",
       "      <td>63600</td>\n",
       "      <td>0</td>\n",
       "      <td>High</td>\n",
       "      <td>6</td>\n",
       "      <td>1318</td>\n",
       "    </tr>\n",
       "    <tr>\n",
       "      <th>2</th>\n",
       "      <td>Young</td>\n",
       "      <td>Female</td>\n",
       "      <td>Rent</td>\n",
       "      <td>Single</td>\n",
       "      <td>Close</td>\n",
       "      <td>13500</td>\n",
       "      <td>0</td>\n",
       "      <td>Low</td>\n",
       "      <td>18</td>\n",
       "      <td>296</td>\n",
       "    </tr>\n",
       "    <tr>\n",
       "      <th>3</th>\n",
       "      <td>Middle</td>\n",
       "      <td>Male</td>\n",
       "      <td>Own</td>\n",
       "      <td>Married</td>\n",
       "      <td>Close</td>\n",
       "      <td>85600</td>\n",
       "      <td>1</td>\n",
       "      <td>High</td>\n",
       "      <td>18</td>\n",
       "      <td>2436</td>\n",
       "    </tr>\n",
       "    <tr>\n",
       "      <th>4</th>\n",
       "      <td>Middle</td>\n",
       "      <td>Female</td>\n",
       "      <td>Own</td>\n",
       "      <td>Single</td>\n",
       "      <td>Close</td>\n",
       "      <td>68400</td>\n",
       "      <td>0</td>\n",
       "      <td>High</td>\n",
       "      <td>12</td>\n",
       "      <td>1304</td>\n",
       "    </tr>\n",
       "  </tbody>\n",
       "</table>\n",
       "</div>"
      ],
      "text/plain": [
       "      Age  Gender OwnHome  Married Location  Salary  Children History  \\\n",
       "0     Old  Female     Own   Single      Far   47500         0    High   \n",
       "1  Middle    Male    Rent   Single    Close   63600         0    High   \n",
       "2   Young  Female    Rent   Single    Close   13500         0     Low   \n",
       "3  Middle    Male     Own  Married    Close   85600         1    High   \n",
       "4  Middle  Female     Own   Single    Close   68400         0    High   \n",
       "\n",
       "   Catalogs  AmountSpent  \n",
       "0         6          755  \n",
       "1         6         1318  \n",
       "2        18          296  \n",
       "3        18         2436  \n",
       "4        12         1304  "
      ]
     },
     "execution_count": 5,
     "metadata": {},
     "output_type": "execute_result"
    }
   ],
   "source": [
    "marketing.head()"
   ]
  },
  {
   "cell_type": "code",
   "execution_count": 14,
   "metadata": {},
   "outputs": [],
   "source": [
    "groceries = pd.read_csv('./data/Groceries_dataset.csv')"
   ]
  },
  {
   "cell_type": "code",
   "execution_count": 15,
   "metadata": {},
   "outputs": [
    {
     "data": {
      "text/html": [
       "<div>\n",
       "<style scoped>\n",
       "    .dataframe tbody tr th:only-of-type {\n",
       "        vertical-align: middle;\n",
       "    }\n",
       "\n",
       "    .dataframe tbody tr th {\n",
       "        vertical-align: top;\n",
       "    }\n",
       "\n",
       "    .dataframe thead th {\n",
       "        text-align: right;\n",
       "    }\n",
       "</style>\n",
       "<table border=\"1\" class=\"dataframe\">\n",
       "  <thead>\n",
       "    <tr style=\"text-align: right;\">\n",
       "      <th></th>\n",
       "      <th>Member_number</th>\n",
       "      <th>Date</th>\n",
       "      <th>itemDescription</th>\n",
       "    </tr>\n",
       "  </thead>\n",
       "  <tbody>\n",
       "    <tr>\n",
       "      <th>0</th>\n",
       "      <td>1808</td>\n",
       "      <td>21-07-2015</td>\n",
       "      <td>tropical fruit</td>\n",
       "    </tr>\n",
       "    <tr>\n",
       "      <th>1</th>\n",
       "      <td>2552</td>\n",
       "      <td>05-01-2015</td>\n",
       "      <td>whole milk</td>\n",
       "    </tr>\n",
       "    <tr>\n",
       "      <th>2</th>\n",
       "      <td>2300</td>\n",
       "      <td>19-09-2015</td>\n",
       "      <td>pip fruit</td>\n",
       "    </tr>\n",
       "    <tr>\n",
       "      <th>3</th>\n",
       "      <td>1187</td>\n",
       "      <td>12-12-2015</td>\n",
       "      <td>other vegetables</td>\n",
       "    </tr>\n",
       "    <tr>\n",
       "      <th>4</th>\n",
       "      <td>3037</td>\n",
       "      <td>01-02-2015</td>\n",
       "      <td>whole milk</td>\n",
       "    </tr>\n",
       "  </tbody>\n",
       "</table>\n",
       "</div>"
      ],
      "text/plain": [
       "   Member_number        Date   itemDescription\n",
       "0           1808  21-07-2015    tropical fruit\n",
       "1           2552  05-01-2015        whole milk\n",
       "2           2300  19-09-2015         pip fruit\n",
       "3           1187  12-12-2015  other vegetables\n",
       "4           3037  01-02-2015        whole milk"
      ]
     },
     "execution_count": 15,
     "metadata": {},
     "output_type": "execute_result"
    }
   ],
   "source": [
    "groceries.head()"
   ]
  },
  {
   "cell_type": "markdown",
   "metadata": {},
   "source": [
    "### 2. Cambiar los tipos de datos"
   ]
  },
  {
   "cell_type": "code",
   "execution_count": 16,
   "metadata": {},
   "outputs": [
    {
     "data": {
      "text/plain": [
       "Member_number       int64\n",
       "Date               object\n",
       "itemDescription    object\n",
       "dtype: object"
      ]
     },
     "execution_count": 16,
     "metadata": {},
     "output_type": "execute_result"
    }
   ],
   "source": [
    "groceries.dtypes"
   ]
  },
  {
   "cell_type": "code",
   "execution_count": 12,
   "metadata": {},
   "outputs": [],
   "source": [
    "groceries['Date'] = groceries['Date'].astype('datetime64')"
   ]
  },
  {
   "cell_type": "code",
   "execution_count": 13,
   "metadata": {},
   "outputs": [
    {
     "data": {
      "text/plain": [
       "Member_number               int64\n",
       "Date               datetime64[ns]\n",
       "itemDescription            object\n",
       "dtype: object"
      ]
     },
     "execution_count": 13,
     "metadata": {},
     "output_type": "execute_result"
    }
   ],
   "source": [
    "groceries.dtypes"
   ]
  },
  {
   "cell_type": "markdown",
   "metadata": {},
   "source": [
    "### 3. Cambiar el formato a fecha"
   ]
  },
  {
   "cell_type": "code",
   "execution_count": 17,
   "metadata": {},
   "outputs": [],
   "source": [
    "groceries['Date'] = pd.to_datetime(groceries['Date'])"
   ]
  },
  {
   "cell_type": "code",
   "execution_count": 19,
   "metadata": {},
   "outputs": [
    {
     "data": {
      "text/html": [
       "<div>\n",
       "<style scoped>\n",
       "    .dataframe tbody tr th:only-of-type {\n",
       "        vertical-align: middle;\n",
       "    }\n",
       "\n",
       "    .dataframe tbody tr th {\n",
       "        vertical-align: top;\n",
       "    }\n",
       "\n",
       "    .dataframe thead th {\n",
       "        text-align: right;\n",
       "    }\n",
       "</style>\n",
       "<table border=\"1\" class=\"dataframe\">\n",
       "  <thead>\n",
       "    <tr style=\"text-align: right;\">\n",
       "      <th></th>\n",
       "      <th>Member_number</th>\n",
       "      <th>Date</th>\n",
       "      <th>itemDescription</th>\n",
       "    </tr>\n",
       "  </thead>\n",
       "  <tbody>\n",
       "    <tr>\n",
       "      <th>0</th>\n",
       "      <td>1808</td>\n",
       "      <td>2015-07-21</td>\n",
       "      <td>tropical fruit</td>\n",
       "    </tr>\n",
       "    <tr>\n",
       "      <th>1</th>\n",
       "      <td>2552</td>\n",
       "      <td>2015-05-01</td>\n",
       "      <td>whole milk</td>\n",
       "    </tr>\n",
       "    <tr>\n",
       "      <th>2</th>\n",
       "      <td>2300</td>\n",
       "      <td>2015-09-19</td>\n",
       "      <td>pip fruit</td>\n",
       "    </tr>\n",
       "    <tr>\n",
       "      <th>3</th>\n",
       "      <td>1187</td>\n",
       "      <td>2015-12-12</td>\n",
       "      <td>other vegetables</td>\n",
       "    </tr>\n",
       "    <tr>\n",
       "      <th>4</th>\n",
       "      <td>3037</td>\n",
       "      <td>2015-01-02</td>\n",
       "      <td>whole milk</td>\n",
       "    </tr>\n",
       "  </tbody>\n",
       "</table>\n",
       "</div>"
      ],
      "text/plain": [
       "   Member_number       Date   itemDescription\n",
       "0           1808 2015-07-21    tropical fruit\n",
       "1           2552 2015-05-01        whole milk\n",
       "2           2300 2015-09-19         pip fruit\n",
       "3           1187 2015-12-12  other vegetables\n",
       "4           3037 2015-01-02        whole milk"
      ]
     },
     "execution_count": 19,
     "metadata": {},
     "output_type": "execute_result"
    }
   ],
   "source": [
    "groceries.head()"
   ]
  },
  {
   "cell_type": "code",
   "execution_count": null,
   "metadata": {},
   "outputs": [],
   "source": []
  },
  {
   "cell_type": "code",
   "execution_count": null,
   "metadata": {},
   "outputs": [],
   "source": []
  },
  {
   "cell_type": "code",
   "execution_count": null,
   "metadata": {},
   "outputs": [],
   "source": []
  },
  {
   "cell_type": "code",
   "execution_count": null,
   "metadata": {},
   "outputs": [],
   "source": []
  },
  {
   "cell_type": "code",
   "execution_count": null,
   "metadata": {},
   "outputs": [],
   "source": []
  }
 ],
 "metadata": {
  "kernelspec": {
   "display_name": "Python 3",
   "language": "python",
   "name": "python3"
  },
  "language_info": {
   "codemirror_mode": {
    "name": "ipython",
    "version": 3
   },
   "file_extension": ".py",
   "mimetype": "text/x-python",
   "name": "python",
   "nbconvert_exporter": "python",
   "pygments_lexer": "ipython3",
   "version": "3.11.5"
  }
 },
 "nbformat": 4,
 "nbformat_minor": 4
}
